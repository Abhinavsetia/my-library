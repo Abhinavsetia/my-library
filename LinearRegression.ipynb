{
  "cells": [
    {
      "cell_type": "code",
      "execution_count": null,
      "metadata": {
        "id": "01MaFRo6hq3x"
      },
      "outputs": [],
      "source": [
        "import numpy as np\n",
        "import pandas as pd\n",
        "import matplotlib.pyplot as plt"
      ]
    },
    {
      "cell_type": "code",
      "source": [
        "from google.colab import drive \n",
        "drive.mount(\"/content/gdrive\")\n"
      ],
      "metadata": {
        "colab": {
          "base_uri": "https://localhost:8080/"
        },
        "id": "5EmZvuS1o33P",
        "outputId": "a3dcbeb9-e753-46a4-909c-1f290b4412ad"
      },
      "execution_count": null,
      "outputs": [
        {
          "output_type": "stream",
          "name": "stdout",
          "text": [
            "Drive already mounted at /content/gdrive; to attempt to forcibly remount, call drive.mount(\"/content/gdrive\", force_remount=True).\n"
          ]
        }
      ]
    },
    {
      "cell_type": "code",
      "source": [
        ""
      ],
      "metadata": {
        "id": "QvAXCd2O1cGo"
      },
      "execution_count": null,
      "outputs": []
    },
    {
      "cell_type": "code",
      "execution_count": null,
      "metadata": {
        "tags": [],
        "id": "5tEBgogShq33"
      },
      "outputs": [],
      "source": [
        "training_data = pd.read_csv('/content/gdrive/My Drive/ML_dataset/Linear_train.csv')\n",
        "test_data = pd.read_csv('/content/gdrive/My Drive/ML_dataset/Linear_test.csv')"
      ]
    },
    {
      "cell_type": "code",
      "execution_count": null,
      "metadata": {
        "colab": {
          "base_uri": "https://localhost:8080/"
        },
        "id": "N-IO6Rymhq34",
        "outputId": "feebacc4-6a8d-4fb1-bfe5-25fde6c104df"
      },
      "outputs": [
        {
          "output_type": "stream",
          "name": "stdout",
          "text": [
            "(50000, 21)\n"
          ]
        }
      ],
      "source": [
        "X = training_data.loc[:,'A':'T'].values\n",
        "X = np.c_[np.ones((X.shape[0], 1)), X]\n",
        "\n",
        "Y = training_data.loc[:,'label'].values\n",
        "Y = Y.reshape(50000, 1)\n",
        "\n",
        "print(X.shape)"
      ]
    },
    {
      "cell_type": "code",
      "execution_count": null,
      "metadata": {
        "colab": {
          "base_uri": "https://localhost:8080/"
        },
        "id": "YDOXLPnjhq36",
        "outputId": "8c5f3a4b-af00-4af4-f3f2-b85455a3284b"
      },
      "outputs": [
        {
          "output_type": "stream",
          "name": "stdout",
          "text": [
            "(10000, 21)\n"
          ]
        }
      ],
      "source": [
        "X_test = test_data.loc[:,'A':'T'].values\n",
        "X_test = np.c_[np.ones((X_test.shape[0], 1)), X_test]\n",
        "\n",
        "Y_test = test_data.loc[:,'label'].values\n",
        "Y_test = Y_test.reshape(10000, 1)\n",
        "\n",
        "print(X_test.shape)"
      ]
    },
    {
      "cell_type": "code",
      "execution_count": null,
      "metadata": {
        "tags": [],
        "id": "H2Va2SEIhq37"
      },
      "outputs": [],
      "source": [
        "class model:\n",
        "    def __init__(self, itr, alpha, X, Y,loss):\n",
        "        m = X.shape[0]\n",
        "        self.loss = loss\n",
        "        theta = np.zeros((X.shape[1], 1))\n",
        "\n",
        "        for i in range(itr):\n",
        "            Z = X@theta\n",
        "            self.Z = Z\n",
        "\n",
        "            grad = (1/m)*(X.T@(Z-Y))\n",
        "\n",
        "            cost = (1/(2*m))*((Z-Y)*(Z-Y)).sum()\n",
        "\n",
        "            theta = theta-(alpha/m)*grad\n",
        "            self.theta = theta\n",
        "            self.loss = loss.append(cost)\n",
        "            \n",
        "    def score(self, X, Y):\n",
        "        m = X.shape[0]\n",
        "        a = ((X@self.theta-Y)**2)/m\n",
        "        print(a)"
      ]
    },
    {
      "cell_type": "code",
      "execution_count": null,
      "metadata": {
        "tags": [
          "outputPrepend"
        ],
        "id": "jtdtQdQGhq38"
      },
      "outputs": [],
      "source": [
        "loss = []\n",
        "ML = model(itr=150000, alpha=0.003, X=X, Y=Y,loss=loss)"
      ]
    },
    {
      "cell_type": "code",
      "execution_count": null,
      "metadata": {
        "id": "ZaY1nu8Uhq38"
      },
      "outputs": [],
      "source": [
        "ML.score(X=X_test, Y=Y_test)"
      ]
    }
  ],
  "metadata": {
    "kernelspec": {
      "display_name": "Python 3 (ipykernel)",
      "language": "python",
      "name": "python3"
    },
    "language_info": {
      "codemirror_mode": {
        "name": "ipython",
        "version": 3
      },
      "file_extension": ".py",
      "mimetype": "text/x-python",
      "name": "python",
      "nbconvert_exporter": "python",
      "pygments_lexer": "ipython3",
      "version": "3.10.3"
    },
    "colab": {
      "name": "Document from Abhinav k Setia_",
      "provenance": [],
      "collapsed_sections": []
    }
  },
  "nbformat": 4,
  "nbformat_minor": 0
}