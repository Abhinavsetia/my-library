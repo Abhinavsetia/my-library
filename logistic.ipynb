{
  "nbformat": 4,
  "nbformat_minor": 0,
  "metadata": {
    "colab": {
      "name": "Untitled2.ipynb",
      "provenance": []
    },
    "kernelspec": {
      "name": "python3",
      "display_name": "Python 3"
    },
    "language_info": {
      "name": "python"
    }
  },
  "cells": [
    {
      "cell_type": "code",
      "execution_count": null,
      "metadata": {
        "id": "9U-byWJscLAB"
      },
      "outputs": [],
      "source": [
        " import numpy as np\n",
        "import pandas as pd\n",
        "from matplotlib import pyplot as plt\n"
      ]
    },
    {
      "cell_type": "code",
      "source": [
        "from google.colab import drive \n",
        "drive.mount(\"/content/gdrive\")"
      ],
      "metadata": {
        "id": "bsfDP2K1cXhq"
      },
      "execution_count": null,
      "outputs": []
    },
    {
      "cell_type": "code",
      "source": [
        "training_data = pd.read_csv('/content/gdrive/My Drive/ML_dataset/enmist-letters-train.csv')\n",
        "test_data = pd.read_csv('/content/gdrive/My Drive/ML_dataset/enmist-letters-test.csv')"
      ],
      "metadata": {
        "id": "5zMurvTpdzmG"
      },
      "execution_count": null,
      "outputs": []
    },
    {
      "cell_type": "code",
      "source": [
        "training_data = pd.read_csv(\"enmist-letters-train.csv\")\n",
        "\n",
        "itterations = 100   \n",
        "alpha = 0.160 \n",
        "m = 1000\n",
        "cost_values = []\n",
        "trained_parameters = []\n",
        "X = training_data.iloc[0:1000,:785]\n",
        "X = X.T\n",
        "y = training_data.iloc[0:1000,0:1]\n",
        "y = np.array([y])\n",
        "X = (X - X.mean())/X.std()\n",
        "y = (y - y.mean())/y.std()\n",
        "print(X)\n",
        "print(y)"
      ],
      "metadata": {
        "id": "iAAZDbP9dfpF"
      },
      "execution_count": null,
      "outputs": []
    }
  ]
}